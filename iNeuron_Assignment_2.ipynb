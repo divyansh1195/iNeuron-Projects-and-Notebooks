{
  "nbformat": 4,
  "nbformat_minor": 0,
  "metadata": {
    "colab": {
      "name": "Nested Loops.ipynb",
      "provenance": []
    },
    "kernelspec": {
      "name": "python3",
      "display_name": "Python 3"
    }
  },
  "cells": [
    {
      "cell_type": "markdown",
      "metadata": {
        "id": "HtOWmG7Xy2Ov"
      },
      "source": [
        "#### 1. Create the below pattern using nested for loop in Python.\r\n",
        "\r\n",
        "#### *\r\n",
        "#### * *\r\n",
        "#### * * *\r\n",
        "#### * * * *\r\n",
        "#### * * * * *\r\n",
        "#### * * * *\r\n",
        "#### * * *\r\n",
        "#### * *\r\n",
        "#### *"
      ]
    },
    {
      "cell_type": "code",
      "metadata": {
        "colab": {
          "base_uri": "https://localhost:8080/"
        },
        "id": "MG3ExDuvLXkc",
        "outputId": "309d94dd-ec0c-481f-f190-322c036f316f"
      },
      "source": [
        "#program to print the above pattern\r\n",
        "\r\n",
        "rows=int(input(\"Enter number of rows: \"))\r\n",
        "\r\n",
        "for i in range(1, rows+1):\r\n",
        "  print(\"* \"*i)\r\n",
        "\r\n",
        "for i in range(rows+1, 0, -1):\r\n",
        "  print(\"* \"*i)"
      ],
      "execution_count": 1,
      "outputs": [
        {
          "output_type": "stream",
          "text": [
            "Enter number of rows: 4\n",
            "* \n",
            "* * \n",
            "* * * \n",
            "* * * * \n",
            "* * * * * \n",
            "* * * * \n",
            "* * * \n",
            "* * \n",
            "* \n"
          ],
          "name": "stdout"
        }
      ]
    },
    {
      "cell_type": "markdown",
      "metadata": {
        "id": "DSzV52BsMJUc"
      },
      "source": [
        "#### 2. Write a Python program to reverse a word after accepting the input from the user."
      ]
    },
    {
      "cell_type": "code",
      "metadata": {
        "colab": {
          "base_uri": "https://localhost:8080/"
        },
        "id": "-IDJkK5dMOMM",
        "outputId": "61b4d4ed-cdf2-4b20-be51-46ddb0b58771"
      },
      "source": [
        "word=str(input(\"Enter the word: \"))\r\n",
        "print(word[::-1])"
      ],
      "execution_count": 6,
      "outputs": [
        {
          "output_type": "stream",
          "text": [
            "Enter the word: ineuron\n",
            "norueni\n"
          ],
          "name": "stdout"
        }
      ]
    }
  ]
}