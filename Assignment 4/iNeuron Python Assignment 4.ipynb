{
 "cells": [
  {
   "cell_type": "markdown",
   "metadata": {
    "id": "jnI9IPxLaQx-"
   },
   "source": [
    "#### 1.1\tWrite a Python Program(with class concepts) to find the area of the triangle using the below formula. area = (s*(s-a)*(s-b)*(s-c)) ** 0.5 Function to take the length of the sides of triangle from user should be defined in the parent class and function to calculate the area should be defined in subclass.\n"
   ]
  },
  {
   "cell_type": "code",
   "execution_count": 1,
   "metadata": {
    "colab": {
     "base_uri": "https://localhost:8080/",
     "height": 221
    },
    "id": "HCwEyqEoJuUQ",
    "outputId": "ccdca183-38d2-4183-b489-0d883ed85442"
   },
   "outputs": [
    {
     "name": "stdout",
     "output_type": "stream",
     "text": [
      "Enter a= 6\n",
      "Enter b= 9\n",
      "Enter c= 12\n",
      "Area of triangle is 26.142637586900065\n"
     ]
    }
   ],
   "source": [
    "class triangle():\n",
    "    def __init__(self, a, b, c):\n",
    "        self.a=float(a)\n",
    "        self.b=float(b)\n",
    "        self.c=float(c)\n",
    "\n",
    "a=int(input(\"Enter a= \"))\n",
    "b=int(input(\"Enter b= \"))\n",
    "c=int(input(\"Enter c= \"))\n",
    "\n",
    "class area(triangle):\n",
    "    def __init__(self, a, b,c):\n",
    "        super().__init__(a,b,c)\n",
    "    \n",
    "    def herons_area(self):\n",
    "        s=(a+b+c)*0.5\n",
    "        return (s*(s-a)*(s-b)*(s-c)) ** 0.5\n",
    "\n",
    "area_tri=area(a,b,c)\n",
    "print(f\"Area of triangle is {area_tri.herons_area()}\")"
   ]
  },
  {
   "cell_type": "markdown",
   "metadata": {
    "id": "kJC1BO8BMs9R"
   },
   "source": [
    "#### 1.2\tWrite a function filter_long_words() that takes a list of words and an integer n and returns the list of words that are longer than n."
   ]
  },
  {
   "cell_type": "code",
   "execution_count": 2,
   "metadata": {},
   "outputs": [
    {
     "name": "stdout",
     "output_type": "stream",
     "text": [
      "['Kenny', 'Omega', 'best', 'wrestler', 'world']\n"
     ]
    }
   ],
   "source": [
    "def filter_long_words(n, string):  \n",
    "    myls = []  \n",
    "    words = string.split(\" \")  \n",
    "    for i in words:  \n",
    "        if len(i) > n:  \n",
    "            myls.append(i)  \n",
    "    return myls   \n",
    "print(filter_long_words(3, \"Kenny Omega is the best wrestler in the world\"))  "
   ]
  },
  {
   "cell_type": "code",
   "execution_count": 3,
   "metadata": {},
   "outputs": [
    {
     "name": "stdout",
     "output_type": "stream",
     "text": [
      "Enter n: 3\n"
     ]
    },
    {
     "data": {
      "text/plain": [
       "['Kenny', 'Omega', 'best', 'wrestler', 'world']"
      ]
     },
     "execution_count": 3,
     "metadata": {},
     "output_type": "execute_result"
    }
   ],
   "source": [
    "#base program 1.2\n",
    "\"\"\"mylist=['Kenny', 'Omega', 'is', 'the', 'best', 'wrestler', 'in', 'the', 'world']\n",
    "n=int(input(\"Enter n: \"))\n",
    "myls=[]\n",
    "for words in mylist:\n",
    "    if len(words)>n:\n",
    "        myls.append(words)\n",
    "\n",
    "myls\"\"\""
   ]
  },
  {
   "cell_type": "markdown",
   "metadata": {},
   "source": [
    "#### 2.1\tWrite a Python program using function concept that maps list of words into a list of integers representing the lengths of the corresponding words.\n",
    "#### Hint: If a list [ ab,cde,erty] is passed on to the python function output should come as [2,3,4] Here 2,3 and 4 are the lengths of the words in the list.\n"
   ]
  },
  {
   "cell_type": "code",
   "execution_count": 4,
   "metadata": {},
   "outputs": [
    {
     "name": "stdout",
     "output_type": "stream",
     "text": [
      "[5, 5, 2, 3, 4, 8, 2, 3, 5]\n"
     ]
    }
   ],
   "source": [
    "def len_words_list(string):\n",
    "    numls=[]\n",
    "    words=string.split(\" \")\n",
    "    for i in words:\n",
    "        numls.append(len(i))\n",
    "    return numls\n",
    "print(len_words_list(\"Kenny Omega is the best wrestler in the world\"))"
   ]
  },
  {
   "cell_type": "code",
   "execution_count": 5,
   "metadata": {},
   "outputs": [
    {
     "data": {
      "text/plain": [
       "[5, 5, 4, 8, 5]"
      ]
     },
     "execution_count": 5,
     "metadata": {},
     "output_type": "execute_result"
    }
   ],
   "source": [
    "#base program for 2.1\n",
    "\"\"\"mylist=['Kenny', 'Omega', 'best', 'wrestler', 'world']\n",
    "outls=[]\n",
    "for words in mylist:\n",
    "        outls.append(len(words))\n",
    "\n",
    "outls\"\"\""
   ]
  },
  {
   "cell_type": "markdown",
   "metadata": {},
   "source": [
    "#### 2.2\tWrite a Python function which takes a character (i.e. a string of length 1) and returns True if it is a vowel, False otherwise."
   ]
  },
  {
   "cell_type": "code",
   "execution_count": 6,
   "metadata": {},
   "outputs": [
    {
     "data": {
      "text/plain": [
       "True"
      ]
     },
     "execution_count": 6,
     "metadata": {},
     "output_type": "execute_result"
    }
   ],
   "source": [
    "vowels=['a', 'e', 'i', 'o', 'u']\n",
    "def check_vowels(i):\n",
    "    if i in vowels:\n",
    "        return True\n",
    "    else:\n",
    "        return False\n",
    "\n",
    "check_vowels('i')"
   ]
  },
  {
   "cell_type": "code",
   "execution_count": 8,
   "metadata": {},
   "outputs": [
    {
     "data": {
      "text/plain": [
       "False"
      ]
     },
     "execution_count": 8,
     "metadata": {},
     "output_type": "execute_result"
    }
   ],
   "source": [
    "check_vowels('r')"
   ]
  }
 ],
 "metadata": {
  "colab": {
   "name": "Untitled3.ipynb",
   "provenance": []
  },
  "kernelspec": {
   "display_name": "Python 3",
   "language": "python",
   "name": "python3"
  },
  "language_info": {
   "codemirror_mode": {
    "name": "ipython",
    "version": 3
   },
   "file_extension": ".py",
   "mimetype": "text/x-python",
   "name": "python",
   "nbconvert_exporter": "python",
   "pygments_lexer": "ipython3",
   "version": "3.8.5"
  }
 },
 "nbformat": 4,
 "nbformat_minor": 1
}
